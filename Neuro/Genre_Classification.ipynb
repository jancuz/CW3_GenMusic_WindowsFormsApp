{
 "cells": [
  {
   "cell_type": "markdown",
   "metadata": {
    "colab_type": "text",
    "id": "cNnM2w-HCeb1"
   },
   "source": [
    "# Жанровая классификация музыки"
   ]
  },
  {
   "cell_type": "code",
   "execution_count": 68,
   "metadata": {
    "colab": {},
    "colab_type": "code",
    "id": "Gt3fyg6dCNvX"
   },
   "outputs": [],
   "source": [
    "import librosa\n",
    "import pandas as pd\n",
    "import numpy as np\n",
    "import matplotlib.pyplot as plt\n",
    "import os\n",
    "from PIL import Image\n",
    "import pathlib\n",
    "import csv\n",
    "\n",
    "from sklearn.model_selection import train_test_split\n",
    "from sklearn.preprocessing import LabelEncoder, StandardScaler\n",
    "\n",
    "import keras"
   ]
  },
  {
   "cell_type": "markdown",
   "metadata": {
    "colab_type": "text",
    "id": "DPe_ebYuDqr5"
   },
   "source": [
    "## Извлечение информации из мелодий\n",
    "\n",
    "10 жанров. Каждый жанр: 100 мелодий. Всего: 1000 аудиофайлов."
   ]
  },
  {
   "cell_type": "markdown",
   "metadata": {
    "colab_type": "text",
    "id": "AfBSVfRCD3PE"
   },
   "source": [
    "## Построение спектрограммы для каждого аудиофайла"
   ]
  },
  {
   "cell_type": "code",
   "execution_count": 32,
   "metadata": {
    "colab": {},
    "colab_type": "code",
    "id": "BHh3pTEVDdrT"
   },
   "outputs": [
    {
     "data": {
      "text/plain": [
       "<Figure size 720x720 with 0 Axes>"
      ]
     },
     "metadata": {},
     "output_type": "display_data"
    }
   ],
   "source": [
    "cmap = plt.get_cmap('inferno')\n",
    "\n",
    "plt.figure(figsize=(10,10))\n",
    "genres = 'blues classical country disco hiphop jazz metal pop reggae rock'.split()\n",
    "for g in genres:\n",
    "    pathlib.Path(f'img_data/{g}').mkdir(parents=True, exist_ok=True)     \n",
    "    for filename in os.listdir(f'./musicdb/genres/{g}'):\n",
    "        songname = f'./musicdb/genres/{g}/{filename}'\n",
    "        y, sr = librosa.load(songname, mono=True, duration=5)\n",
    "        plt.specgram(y, NFFT=2048, Fs=2, Fc=0, noverlap=128, cmap=cmap, sides='default', mode='default', scale='dB');\n",
    "        plt.axis('off');\n",
    "        plt.savefig(f'img_data/{g}/{filename[:-3].replace(\".\", \"\")}.png')\n",
    "        plt.clf()"
   ]
  },
  {
   "cell_type": "markdown",
   "metadata": {
    "colab_type": "text",
    "id": "piwUwgP5Eef9"
   },
   "source": [
    "## Извлечение характеристик из спектрограммы"
   ]
  },
  {
   "cell_type": "markdown",
   "metadata": {
    "colab_type": "text",
    "id": "TBlT448pEqR9"
   },
   "source": [
    "### 1. Записывание информации в файл"
   ]
  },
  {
   "cell_type": "code",
   "execution_count": 35,
   "metadata": {
    "colab": {},
    "colab_type": "code",
    "id": "ZsSQmB0PE3Iu"
   },
   "outputs": [],
   "source": [
    "header = 'filename chroma_stft spectral_centroid spectral_bandwidth rolloff zero_crossing_rate'\n",
    "for i in range(1, 21):\n",
    "    header += f' mfcc{i}'\n",
    "header += ' label'\n",
    "header = header.split()\n",
    "\n",
    "file = open('data.csv', 'w', newline='')\n",
    "with file:\n",
    "    writer = csv.writer(file)\n",
    "    writer.writerow(header)\n",
    "genres = 'blues classical country disco hiphop jazz metal pop reggae rock'.split()\n",
    "for g in genres:\n",
    "    for filename in os.listdir(f'./musicdb/genres/{g}'):\n",
    "        songname = f'./musicdb/genres/{g}/{filename}'\n",
    "        y, sr = librosa.load(songname, mono=True, duration=30)\n",
    "        chroma_stft = librosa.feature.chroma_stft(y=y, sr=sr)\n",
    "        spec_cent = librosa.feature.spectral_centroid(y=y, sr=sr)\n",
    "        spec_bw = librosa.feature.spectral_bandwidth(y=y, sr=sr)\n",
    "        rolloff = librosa.feature.spectral_rolloff(y=y, sr=sr)\n",
    "        zcr = librosa.feature.zero_crossing_rate(y)\n",
    "        mfcc = librosa.feature.mfcc(y=y, sr=sr)\n",
    "        to_append = f'{filename} {np.mean(chroma_stft)} {np.mean(spec_cent)} {np.mean(spec_bw)} {np.mean(rolloff)} {np.mean(zcr)}'    \n",
    "        for e in mfcc:\n",
    "            to_append += f' {np.mean(e)}'\n",
    "        to_append += f' {g}'\n",
    "        file = open('data.csv', 'a', newline='')\n",
    "        with file:\n",
    "            writer = csv.writer(file)\n",
    "            writer.writerow(to_append.split())"
   ]
  },
  {
   "cell_type": "markdown",
   "metadata": {
    "colab_type": "text",
    "id": "fgeCZSKQEp1A"
   },
   "source": [
    "### 2. Анализ данных"
   ]
  },
  {
   "cell_type": "code",
   "execution_count": 36,
   "metadata": {
    "colab": {
     "base_uri": "https://localhost:8080/",
     "height": 253
    },
    "colab_type": "code",
    "id": "Kr5_EdpD9dyh",
    "outputId": "81fd4a29-93fa-44f8-bf90-2f99981f761a"
   },
   "outputs": [
    {
     "data": {
      "text/html": [
       "<div>\n",
       "<style scoped>\n",
       "    .dataframe tbody tr th:only-of-type {\n",
       "        vertical-align: middle;\n",
       "    }\n",
       "\n",
       "    .dataframe tbody tr th {\n",
       "        vertical-align: top;\n",
       "    }\n",
       "\n",
       "    .dataframe thead th {\n",
       "        text-align: right;\n",
       "    }\n",
       "</style>\n",
       "<table border=\"1\" class=\"dataframe\">\n",
       "  <thead>\n",
       "    <tr style=\"text-align: right;\">\n",
       "      <th></th>\n",
       "      <th>filename</th>\n",
       "      <th>chroma_stft</th>\n",
       "      <th>spectral_centroid</th>\n",
       "      <th>spectral_bandwidth</th>\n",
       "      <th>rolloff</th>\n",
       "      <th>zero_crossing_rate</th>\n",
       "      <th>mfcc1</th>\n",
       "      <th>mfcc2</th>\n",
       "      <th>mfcc3</th>\n",
       "      <th>mfcc4</th>\n",
       "      <th>...</th>\n",
       "      <th>mfcc12</th>\n",
       "      <th>mfcc13</th>\n",
       "      <th>mfcc14</th>\n",
       "      <th>mfcc15</th>\n",
       "      <th>mfcc16</th>\n",
       "      <th>mfcc17</th>\n",
       "      <th>mfcc18</th>\n",
       "      <th>mfcc19</th>\n",
       "      <th>mfcc20</th>\n",
       "      <th>label</th>\n",
       "    </tr>\n",
       "  </thead>\n",
       "  <tbody>\n",
       "    <tr>\n",
       "      <th>0</th>\n",
       "      <td>blues.00000.wav</td>\n",
       "      <td>0.349943</td>\n",
       "      <td>1784.420446</td>\n",
       "      <td>2002.650192</td>\n",
       "      <td>3806.485316</td>\n",
       "      <td>0.083066</td>\n",
       "      <td>-113.596742</td>\n",
       "      <td>121.557302</td>\n",
       "      <td>-19.158825</td>\n",
       "      <td>42.351029</td>\n",
       "      <td>...</td>\n",
       "      <td>8.810668</td>\n",
       "      <td>-3.667367</td>\n",
       "      <td>5.751690</td>\n",
       "      <td>-5.162761</td>\n",
       "      <td>0.750947</td>\n",
       "      <td>-1.691937</td>\n",
       "      <td>-0.409954</td>\n",
       "      <td>-2.300208</td>\n",
       "      <td>1.219928</td>\n",
       "      <td>blues</td>\n",
       "    </tr>\n",
       "    <tr>\n",
       "      <th>1</th>\n",
       "      <td>blues.00001.wav</td>\n",
       "      <td>0.340983</td>\n",
       "      <td>1529.835316</td>\n",
       "      <td>2038.617579</td>\n",
       "      <td>3548.820207</td>\n",
       "      <td>0.056044</td>\n",
       "      <td>-207.556796</td>\n",
       "      <td>124.006717</td>\n",
       "      <td>8.930562</td>\n",
       "      <td>35.874684</td>\n",
       "      <td>...</td>\n",
       "      <td>5.376802</td>\n",
       "      <td>-2.239119</td>\n",
       "      <td>4.216963</td>\n",
       "      <td>-6.012273</td>\n",
       "      <td>0.936109</td>\n",
       "      <td>-0.716537</td>\n",
       "      <td>0.293875</td>\n",
       "      <td>-0.287431</td>\n",
       "      <td>0.531573</td>\n",
       "      <td>blues</td>\n",
       "    </tr>\n",
       "    <tr>\n",
       "      <th>2</th>\n",
       "      <td>blues.00002.wav</td>\n",
       "      <td>0.363603</td>\n",
       "      <td>1552.481958</td>\n",
       "      <td>1747.165985</td>\n",
       "      <td>3040.514948</td>\n",
       "      <td>0.076301</td>\n",
       "      <td>-90.754394</td>\n",
       "      <td>140.459907</td>\n",
       "      <td>-29.109965</td>\n",
       "      <td>31.689014</td>\n",
       "      <td>...</td>\n",
       "      <td>5.789265</td>\n",
       "      <td>-8.905224</td>\n",
       "      <td>-1.083720</td>\n",
       "      <td>-9.218359</td>\n",
       "      <td>2.455805</td>\n",
       "      <td>-7.726901</td>\n",
       "      <td>-1.815724</td>\n",
       "      <td>-3.433434</td>\n",
       "      <td>-2.226821</td>\n",
       "      <td>blues</td>\n",
       "    </tr>\n",
       "    <tr>\n",
       "      <th>3</th>\n",
       "      <td>blues.00003.wav</td>\n",
       "      <td>0.404779</td>\n",
       "      <td>1070.119953</td>\n",
       "      <td>1596.333948</td>\n",
       "      <td>2185.028454</td>\n",
       "      <td>0.033309</td>\n",
       "      <td>-199.431144</td>\n",
       "      <td>150.099218</td>\n",
       "      <td>5.647594</td>\n",
       "      <td>26.871927</td>\n",
       "      <td>...</td>\n",
       "      <td>6.087676</td>\n",
       "      <td>-2.476420</td>\n",
       "      <td>-1.073890</td>\n",
       "      <td>-2.874777</td>\n",
       "      <td>0.780976</td>\n",
       "      <td>-3.316932</td>\n",
       "      <td>0.637981</td>\n",
       "      <td>-0.619690</td>\n",
       "      <td>-3.408233</td>\n",
       "      <td>blues</td>\n",
       "    </tr>\n",
       "    <tr>\n",
       "      <th>4</th>\n",
       "      <td>blues.00004.wav</td>\n",
       "      <td>0.308590</td>\n",
       "      <td>1835.494603</td>\n",
       "      <td>1748.362448</td>\n",
       "      <td>3580.945013</td>\n",
       "      <td>0.101500</td>\n",
       "      <td>-160.266031</td>\n",
       "      <td>126.198800</td>\n",
       "      <td>-35.605448</td>\n",
       "      <td>22.153301</td>\n",
       "      <td>...</td>\n",
       "      <td>-2.806385</td>\n",
       "      <td>-6.934122</td>\n",
       "      <td>-7.558619</td>\n",
       "      <td>-9.173552</td>\n",
       "      <td>-4.512166</td>\n",
       "      <td>-5.453538</td>\n",
       "      <td>-0.924162</td>\n",
       "      <td>-4.409333</td>\n",
       "      <td>-11.703781</td>\n",
       "      <td>blues</td>\n",
       "    </tr>\n",
       "  </tbody>\n",
       "</table>\n",
       "<p>5 rows × 27 columns</p>\n",
       "</div>"
      ],
      "text/plain": [
       "          filename  chroma_stft  spectral_centroid  spectral_bandwidth  \\\n",
       "0  blues.00000.wav     0.349943        1784.420446         2002.650192   \n",
       "1  blues.00001.wav     0.340983        1529.835316         2038.617579   \n",
       "2  blues.00002.wav     0.363603        1552.481958         1747.165985   \n",
       "3  blues.00003.wav     0.404779        1070.119953         1596.333948   \n",
       "4  blues.00004.wav     0.308590        1835.494603         1748.362448   \n",
       "\n",
       "       rolloff  zero_crossing_rate       mfcc1       mfcc2      mfcc3  \\\n",
       "0  3806.485316            0.083066 -113.596742  121.557302 -19.158825   \n",
       "1  3548.820207            0.056044 -207.556796  124.006717   8.930562   \n",
       "2  3040.514948            0.076301  -90.754394  140.459907 -29.109965   \n",
       "3  2185.028454            0.033309 -199.431144  150.099218   5.647594   \n",
       "4  3580.945013            0.101500 -160.266031  126.198800 -35.605448   \n",
       "\n",
       "       mfcc4  ...    mfcc12    mfcc13    mfcc14    mfcc15    mfcc16    mfcc17  \\\n",
       "0  42.351029  ...  8.810668 -3.667367  5.751690 -5.162761  0.750947 -1.691937   \n",
       "1  35.874684  ...  5.376802 -2.239119  4.216963 -6.012273  0.936109 -0.716537   \n",
       "2  31.689014  ...  5.789265 -8.905224 -1.083720 -9.218359  2.455805 -7.726901   \n",
       "3  26.871927  ...  6.087676 -2.476420 -1.073890 -2.874777  0.780976 -3.316932   \n",
       "4  22.153301  ... -2.806385 -6.934122 -7.558619 -9.173552 -4.512166 -5.453538   \n",
       "\n",
       "     mfcc18    mfcc19     mfcc20  label  \n",
       "0 -0.409954 -2.300208   1.219928  blues  \n",
       "1  0.293875 -0.287431   0.531573  blues  \n",
       "2 -1.815724 -3.433434  -2.226821  blues  \n",
       "3  0.637981 -0.619690  -3.408233  blues  \n",
       "4 -0.924162 -4.409333 -11.703781  blues  \n",
       "\n",
       "[5 rows x 27 columns]"
      ]
     },
     "execution_count": 36,
     "metadata": {},
     "output_type": "execute_result"
    }
   ],
   "source": [
    "data = pd.read_csv('data.csv')\n",
    "data.head()"
   ]
  },
  {
   "cell_type": "code",
   "execution_count": 38,
   "metadata": {
    "colab": {},
    "colab_type": "code",
    "id": "veD5BgX49hZa"
   },
   "outputs": [],
   "source": [
    "# удаление ненужной информации\n",
    "data = data.drop(['filename'],axis=1)"
   ]
  },
  {
   "cell_type": "code",
   "execution_count": 39,
   "metadata": {},
   "outputs": [
    {
     "data": {
      "text/html": [
       "<div>\n",
       "<style scoped>\n",
       "    .dataframe tbody tr th:only-of-type {\n",
       "        vertical-align: middle;\n",
       "    }\n",
       "\n",
       "    .dataframe tbody tr th {\n",
       "        vertical-align: top;\n",
       "    }\n",
       "\n",
       "    .dataframe thead th {\n",
       "        text-align: right;\n",
       "    }\n",
       "</style>\n",
       "<table border=\"1\" class=\"dataframe\">\n",
       "  <thead>\n",
       "    <tr style=\"text-align: right;\">\n",
       "      <th></th>\n",
       "      <th>chroma_stft</th>\n",
       "      <th>spectral_centroid</th>\n",
       "      <th>spectral_bandwidth</th>\n",
       "      <th>rolloff</th>\n",
       "      <th>zero_crossing_rate</th>\n",
       "      <th>mfcc1</th>\n",
       "      <th>mfcc2</th>\n",
       "      <th>mfcc3</th>\n",
       "      <th>mfcc4</th>\n",
       "      <th>mfcc5</th>\n",
       "      <th>...</th>\n",
       "      <th>mfcc12</th>\n",
       "      <th>mfcc13</th>\n",
       "      <th>mfcc14</th>\n",
       "      <th>mfcc15</th>\n",
       "      <th>mfcc16</th>\n",
       "      <th>mfcc17</th>\n",
       "      <th>mfcc18</th>\n",
       "      <th>mfcc19</th>\n",
       "      <th>mfcc20</th>\n",
       "      <th>label</th>\n",
       "    </tr>\n",
       "  </thead>\n",
       "  <tbody>\n",
       "    <tr>\n",
       "      <th>0</th>\n",
       "      <td>0.349943</td>\n",
       "      <td>1784.420446</td>\n",
       "      <td>2002.650192</td>\n",
       "      <td>3806.485316</td>\n",
       "      <td>0.083066</td>\n",
       "      <td>-113.596742</td>\n",
       "      <td>121.557302</td>\n",
       "      <td>-19.158825</td>\n",
       "      <td>42.351029</td>\n",
       "      <td>-6.376457</td>\n",
       "      <td>...</td>\n",
       "      <td>8.810668</td>\n",
       "      <td>-3.667367</td>\n",
       "      <td>5.751690</td>\n",
       "      <td>-5.162761</td>\n",
       "      <td>0.750947</td>\n",
       "      <td>-1.691937</td>\n",
       "      <td>-0.409954</td>\n",
       "      <td>-2.300208</td>\n",
       "      <td>1.219928</td>\n",
       "      <td>blues</td>\n",
       "    </tr>\n",
       "    <tr>\n",
       "      <th>1</th>\n",
       "      <td>0.340983</td>\n",
       "      <td>1529.835316</td>\n",
       "      <td>2038.617579</td>\n",
       "      <td>3548.820207</td>\n",
       "      <td>0.056044</td>\n",
       "      <td>-207.556796</td>\n",
       "      <td>124.006717</td>\n",
       "      <td>8.930562</td>\n",
       "      <td>35.874684</td>\n",
       "      <td>2.916038</td>\n",
       "      <td>...</td>\n",
       "      <td>5.376802</td>\n",
       "      <td>-2.239119</td>\n",
       "      <td>4.216963</td>\n",
       "      <td>-6.012273</td>\n",
       "      <td>0.936109</td>\n",
       "      <td>-0.716537</td>\n",
       "      <td>0.293875</td>\n",
       "      <td>-0.287431</td>\n",
       "      <td>0.531573</td>\n",
       "      <td>blues</td>\n",
       "    </tr>\n",
       "    <tr>\n",
       "      <th>2</th>\n",
       "      <td>0.363603</td>\n",
       "      <td>1552.481958</td>\n",
       "      <td>1747.165985</td>\n",
       "      <td>3040.514948</td>\n",
       "      <td>0.076301</td>\n",
       "      <td>-90.754394</td>\n",
       "      <td>140.459907</td>\n",
       "      <td>-29.109965</td>\n",
       "      <td>31.689014</td>\n",
       "      <td>-13.987036</td>\n",
       "      <td>...</td>\n",
       "      <td>5.789265</td>\n",
       "      <td>-8.905224</td>\n",
       "      <td>-1.083720</td>\n",
       "      <td>-9.218359</td>\n",
       "      <td>2.455805</td>\n",
       "      <td>-7.726901</td>\n",
       "      <td>-1.815724</td>\n",
       "      <td>-3.433434</td>\n",
       "      <td>-2.226821</td>\n",
       "      <td>blues</td>\n",
       "    </tr>\n",
       "    <tr>\n",
       "      <th>3</th>\n",
       "      <td>0.404779</td>\n",
       "      <td>1070.119953</td>\n",
       "      <td>1596.333948</td>\n",
       "      <td>2185.028454</td>\n",
       "      <td>0.033309</td>\n",
       "      <td>-199.431144</td>\n",
       "      <td>150.099218</td>\n",
       "      <td>5.647594</td>\n",
       "      <td>26.871927</td>\n",
       "      <td>1.754463</td>\n",
       "      <td>...</td>\n",
       "      <td>6.087676</td>\n",
       "      <td>-2.476420</td>\n",
       "      <td>-1.073890</td>\n",
       "      <td>-2.874777</td>\n",
       "      <td>0.780976</td>\n",
       "      <td>-3.316932</td>\n",
       "      <td>0.637981</td>\n",
       "      <td>-0.619690</td>\n",
       "      <td>-3.408233</td>\n",
       "      <td>blues</td>\n",
       "    </tr>\n",
       "    <tr>\n",
       "      <th>4</th>\n",
       "      <td>0.308590</td>\n",
       "      <td>1835.494603</td>\n",
       "      <td>1748.362448</td>\n",
       "      <td>3580.945013</td>\n",
       "      <td>0.101500</td>\n",
       "      <td>-160.266031</td>\n",
       "      <td>126.198800</td>\n",
       "      <td>-35.605448</td>\n",
       "      <td>22.153301</td>\n",
       "      <td>-32.489270</td>\n",
       "      <td>...</td>\n",
       "      <td>-2.806385</td>\n",
       "      <td>-6.934122</td>\n",
       "      <td>-7.558619</td>\n",
       "      <td>-9.173552</td>\n",
       "      <td>-4.512166</td>\n",
       "      <td>-5.453538</td>\n",
       "      <td>-0.924162</td>\n",
       "      <td>-4.409333</td>\n",
       "      <td>-11.703781</td>\n",
       "      <td>blues</td>\n",
       "    </tr>\n",
       "    <tr>\n",
       "      <th>...</th>\n",
       "      <td>...</td>\n",
       "      <td>...</td>\n",
       "      <td>...</td>\n",
       "      <td>...</td>\n",
       "      <td>...</td>\n",
       "      <td>...</td>\n",
       "      <td>...</td>\n",
       "      <td>...</td>\n",
       "      <td>...</td>\n",
       "      <td>...</td>\n",
       "      <td>...</td>\n",
       "      <td>...</td>\n",
       "      <td>...</td>\n",
       "      <td>...</td>\n",
       "      <td>...</td>\n",
       "      <td>...</td>\n",
       "      <td>...</td>\n",
       "      <td>...</td>\n",
       "      <td>...</td>\n",
       "      <td>...</td>\n",
       "      <td>...</td>\n",
       "    </tr>\n",
       "    <tr>\n",
       "      <th>995</th>\n",
       "      <td>0.351991</td>\n",
       "      <td>2008.581132</td>\n",
       "      <td>2106.617024</td>\n",
       "      <td>4254.215942</td>\n",
       "      <td>0.089267</td>\n",
       "      <td>-153.632304</td>\n",
       "      <td>109.857258</td>\n",
       "      <td>-23.085707</td>\n",
       "      <td>59.040677</td>\n",
       "      <td>-7.490499</td>\n",
       "      <td>...</td>\n",
       "      <td>12.350816</td>\n",
       "      <td>-12.306271</td>\n",
       "      <td>5.780973</td>\n",
       "      <td>-10.279924</td>\n",
       "      <td>1.791489</td>\n",
       "      <td>-13.304210</td>\n",
       "      <td>2.473193</td>\n",
       "      <td>-6.717573</td>\n",
       "      <td>-1.189238</td>\n",
       "      <td>rock</td>\n",
       "    </tr>\n",
       "    <tr>\n",
       "      <th>996</th>\n",
       "      <td>0.398653</td>\n",
       "      <td>2006.051164</td>\n",
       "      <td>2068.327905</td>\n",
       "      <td>4147.374921</td>\n",
       "      <td>0.097659</td>\n",
       "      <td>-142.424217</td>\n",
       "      <td>116.219780</td>\n",
       "      <td>-32.177077</td>\n",
       "      <td>49.122974</td>\n",
       "      <td>-8.375371</td>\n",
       "      <td>...</td>\n",
       "      <td>14.065346</td>\n",
       "      <td>-16.394693</td>\n",
       "      <td>4.152589</td>\n",
       "      <td>-4.350760</td>\n",
       "      <td>3.736455</td>\n",
       "      <td>-10.845639</td>\n",
       "      <td>1.875218</td>\n",
       "      <td>-7.459579</td>\n",
       "      <td>-2.802677</td>\n",
       "      <td>rock</td>\n",
       "    </tr>\n",
       "    <tr>\n",
       "      <th>997</th>\n",
       "      <td>0.432103</td>\n",
       "      <td>2077.190361</td>\n",
       "      <td>1926.989678</td>\n",
       "      <td>4030.767293</td>\n",
       "      <td>0.121824</td>\n",
       "      <td>-125.031313</td>\n",
       "      <td>115.194965</td>\n",
       "      <td>-47.993506</td>\n",
       "      <td>52.834532</td>\n",
       "      <td>-13.480977</td>\n",
       "      <td>...</td>\n",
       "      <td>10.481961</td>\n",
       "      <td>-17.951917</td>\n",
       "      <td>1.211113</td>\n",
       "      <td>-11.534863</td>\n",
       "      <td>1.844773</td>\n",
       "      <td>-12.847902</td>\n",
       "      <td>3.447424</td>\n",
       "      <td>-12.594178</td>\n",
       "      <td>-2.107003</td>\n",
       "      <td>rock</td>\n",
       "    </tr>\n",
       "    <tr>\n",
       "      <th>998</th>\n",
       "      <td>0.362349</td>\n",
       "      <td>1398.672358</td>\n",
       "      <td>1818.148469</td>\n",
       "      <td>3014.740104</td>\n",
       "      <td>0.048731</td>\n",
       "      <td>-224.972299</td>\n",
       "      <td>123.656889</td>\n",
       "      <td>-9.754534</td>\n",
       "      <td>56.595062</td>\n",
       "      <td>10.443339</td>\n",
       "      <td>...</td>\n",
       "      <td>7.683082</td>\n",
       "      <td>-10.071786</td>\n",
       "      <td>-0.255097</td>\n",
       "      <td>-5.276486</td>\n",
       "      <td>-2.816289</td>\n",
       "      <td>-4.416438</td>\n",
       "      <td>1.558265</td>\n",
       "      <td>-5.043121</td>\n",
       "      <td>-3.585596</td>\n",
       "      <td>rock</td>\n",
       "    </tr>\n",
       "    <tr>\n",
       "      <th>999</th>\n",
       "      <td>0.358195</td>\n",
       "      <td>1609.442919</td>\n",
       "      <td>1797.065098</td>\n",
       "      <td>3246.280370</td>\n",
       "      <td>0.076290</td>\n",
       "      <td>-235.189364</td>\n",
       "      <td>123.888552</td>\n",
       "      <td>-22.536185</td>\n",
       "      <td>52.915518</td>\n",
       "      <td>-1.436621</td>\n",
       "      <td>...</td>\n",
       "      <td>10.066771</td>\n",
       "      <td>-15.019588</td>\n",
       "      <td>3.110469</td>\n",
       "      <td>-7.127754</td>\n",
       "      <td>1.784515</td>\n",
       "      <td>-7.070406</td>\n",
       "      <td>0.023643</td>\n",
       "      <td>-2.022035</td>\n",
       "      <td>1.158525</td>\n",
       "      <td>rock</td>\n",
       "    </tr>\n",
       "  </tbody>\n",
       "</table>\n",
       "<p>1000 rows × 26 columns</p>\n",
       "</div>"
      ],
      "text/plain": [
       "     chroma_stft  spectral_centroid  spectral_bandwidth      rolloff  \\\n",
       "0       0.349943        1784.420446         2002.650192  3806.485316   \n",
       "1       0.340983        1529.835316         2038.617579  3548.820207   \n",
       "2       0.363603        1552.481958         1747.165985  3040.514948   \n",
       "3       0.404779        1070.119953         1596.333948  2185.028454   \n",
       "4       0.308590        1835.494603         1748.362448  3580.945013   \n",
       "..           ...                ...                 ...          ...   \n",
       "995     0.351991        2008.581132         2106.617024  4254.215942   \n",
       "996     0.398653        2006.051164         2068.327905  4147.374921   \n",
       "997     0.432103        2077.190361         1926.989678  4030.767293   \n",
       "998     0.362349        1398.672358         1818.148469  3014.740104   \n",
       "999     0.358195        1609.442919         1797.065098  3246.280370   \n",
       "\n",
       "     zero_crossing_rate       mfcc1       mfcc2      mfcc3      mfcc4  \\\n",
       "0              0.083066 -113.596742  121.557302 -19.158825  42.351029   \n",
       "1              0.056044 -207.556796  124.006717   8.930562  35.874684   \n",
       "2              0.076301  -90.754394  140.459907 -29.109965  31.689014   \n",
       "3              0.033309 -199.431144  150.099218   5.647594  26.871927   \n",
       "4              0.101500 -160.266031  126.198800 -35.605448  22.153301   \n",
       "..                  ...         ...         ...        ...        ...   \n",
       "995            0.089267 -153.632304  109.857258 -23.085707  59.040677   \n",
       "996            0.097659 -142.424217  116.219780 -32.177077  49.122974   \n",
       "997            0.121824 -125.031313  115.194965 -47.993506  52.834532   \n",
       "998            0.048731 -224.972299  123.656889  -9.754534  56.595062   \n",
       "999            0.076290 -235.189364  123.888552 -22.536185  52.915518   \n",
       "\n",
       "         mfcc5  ...     mfcc12     mfcc13    mfcc14     mfcc15    mfcc16  \\\n",
       "0    -6.376457  ...   8.810668  -3.667367  5.751690  -5.162761  0.750947   \n",
       "1     2.916038  ...   5.376802  -2.239119  4.216963  -6.012273  0.936109   \n",
       "2   -13.987036  ...   5.789265  -8.905224 -1.083720  -9.218359  2.455805   \n",
       "3     1.754463  ...   6.087676  -2.476420 -1.073890  -2.874777  0.780976   \n",
       "4   -32.489270  ...  -2.806385  -6.934122 -7.558619  -9.173552 -4.512166   \n",
       "..         ...  ...        ...        ...       ...        ...       ...   \n",
       "995  -7.490499  ...  12.350816 -12.306271  5.780973 -10.279924  1.791489   \n",
       "996  -8.375371  ...  14.065346 -16.394693  4.152589  -4.350760  3.736455   \n",
       "997 -13.480977  ...  10.481961 -17.951917  1.211113 -11.534863  1.844773   \n",
       "998  10.443339  ...   7.683082 -10.071786 -0.255097  -5.276486 -2.816289   \n",
       "999  -1.436621  ...  10.066771 -15.019588  3.110469  -7.127754  1.784515   \n",
       "\n",
       "        mfcc17    mfcc18     mfcc19     mfcc20  label  \n",
       "0    -1.691937 -0.409954  -2.300208   1.219928  blues  \n",
       "1    -0.716537  0.293875  -0.287431   0.531573  blues  \n",
       "2    -7.726901 -1.815724  -3.433434  -2.226821  blues  \n",
       "3    -3.316932  0.637981  -0.619690  -3.408233  blues  \n",
       "4    -5.453538 -0.924162  -4.409333 -11.703781  blues  \n",
       "..         ...       ...        ...        ...    ...  \n",
       "995 -13.304210  2.473193  -6.717573  -1.189238   rock  \n",
       "996 -10.845639  1.875218  -7.459579  -2.802677   rock  \n",
       "997 -12.847902  3.447424 -12.594178  -2.107003   rock  \n",
       "998  -4.416438  1.558265  -5.043121  -3.585596   rock  \n",
       "999  -7.070406  0.023643  -2.022035   1.158525   rock  \n",
       "\n",
       "[1000 rows x 26 columns]"
      ]
     },
     "execution_count": 39,
     "metadata": {},
     "output_type": "execute_result"
    }
   ],
   "source": [
    "data"
   ]
  },
  {
   "cell_type": "markdown",
   "metadata": {
    "colab_type": "text",
    "id": "Nyr0aAAsGXjZ"
   },
   "source": [
    "### 3. Кодирование жанров"
   ]
  },
  {
   "cell_type": "code",
   "execution_count": 40,
   "metadata": {
    "colab": {},
    "colab_type": "code",
    "id": "frI5HH4q-1HS"
   },
   "outputs": [],
   "source": [
    "genre_list = data.iloc[:, -1]\n",
    "encoder = LabelEncoder()\n",
    "y = encoder.fit_transform(genre_list)"
   ]
  },
  {
   "cell_type": "code",
   "execution_count": 41,
   "metadata": {
    "colab_type": "text",
    "id": "Slm8W0-iGVhI"
   },
   "outputs": [
    {
     "data": {
      "text/plain": [
       "0      blues\n",
       "1      blues\n",
       "2      blues\n",
       "3      blues\n",
       "4      blues\n",
       "       ...  \n",
       "995     rock\n",
       "996     rock\n",
       "997     rock\n",
       "998     rock\n",
       "999     rock\n",
       "Name: label, Length: 1000, dtype: object"
      ]
     },
     "execution_count": 41,
     "metadata": {},
     "output_type": "execute_result"
    }
   ],
   "source": [
    "genre_list"
   ]
  },
  {
   "cell_type": "code",
   "execution_count": 42,
   "metadata": {},
   "outputs": [
    {
     "data": {
      "text/plain": [
       "array([0, 0, 0, 0, 0, 0, 0, 0, 0, 0, 0, 0, 0, 0, 0, 0, 0, 0, 0, 0, 0, 0,\n",
       "       0, 0, 0, 0, 0, 0, 0, 0, 0, 0, 0, 0, 0, 0, 0, 0, 0, 0, 0, 0, 0, 0,\n",
       "       0, 0, 0, 0, 0, 0, 0, 0, 0, 0, 0, 0, 0, 0, 0, 0, 0, 0, 0, 0, 0, 0,\n",
       "       0, 0, 0, 0, 0, 0, 0, 0, 0, 0, 0, 0, 0, 0, 0, 0, 0, 0, 0, 0, 0, 0,\n",
       "       0, 0, 0, 0, 0, 0, 0, 0, 0, 0, 0, 0, 1, 1, 1, 1, 1, 1, 1, 1, 1, 1,\n",
       "       1, 1, 1, 1, 1, 1, 1, 1, 1, 1, 1, 1, 1, 1, 1, 1, 1, 1, 1, 1, 1, 1,\n",
       "       1, 1, 1, 1, 1, 1, 1, 1, 1, 1, 1, 1, 1, 1, 1, 1, 1, 1, 1, 1, 1, 1,\n",
       "       1, 1, 1, 1, 1, 1, 1, 1, 1, 1, 1, 1, 1, 1, 1, 1, 1, 1, 1, 1, 1, 1,\n",
       "       1, 1, 1, 1, 1, 1, 1, 1, 1, 1, 1, 1, 1, 1, 1, 1, 1, 1, 1, 1, 1, 1,\n",
       "       1, 1, 2, 2, 2, 2, 2, 2, 2, 2, 2, 2, 2, 2, 2, 2, 2, 2, 2, 2, 2, 2,\n",
       "       2, 2, 2, 2, 2, 2, 2, 2, 2, 2, 2, 2, 2, 2, 2, 2, 2, 2, 2, 2, 2, 2,\n",
       "       2, 2, 2, 2, 2, 2, 2, 2, 2, 2, 2, 2, 2, 2, 2, 2, 2, 2, 2, 2, 2, 2,\n",
       "       2, 2, 2, 2, 2, 2, 2, 2, 2, 2, 2, 2, 2, 2, 2, 2, 2, 2, 2, 2, 2, 2,\n",
       "       2, 2, 2, 2, 2, 2, 2, 2, 2, 2, 2, 2, 2, 2, 3, 3, 3, 3, 3, 3, 3, 3,\n",
       "       3, 3, 3, 3, 3, 3, 3, 3, 3, 3, 3, 3, 3, 3, 3, 3, 3, 3, 3, 3, 3, 3,\n",
       "       3, 3, 3, 3, 3, 3, 3, 3, 3, 3, 3, 3, 3, 3, 3, 3, 3, 3, 3, 3, 3, 3,\n",
       "       3, 3, 3, 3, 3, 3, 3, 3, 3, 3, 3, 3, 3, 3, 3, 3, 3, 3, 3, 3, 3, 3,\n",
       "       3, 3, 3, 3, 3, 3, 3, 3, 3, 3, 3, 3, 3, 3, 3, 3, 3, 3, 3, 3, 3, 3,\n",
       "       3, 3, 3, 3, 4, 4, 4, 4, 4, 4, 4, 4, 4, 4, 4, 4, 4, 4, 4, 4, 4, 4,\n",
       "       4, 4, 4, 4, 4, 4, 4, 4, 4, 4, 4, 4, 4, 4, 4, 4, 4, 4, 4, 4, 4, 4,\n",
       "       4, 4, 4, 4, 4, 4, 4, 4, 4, 4, 4, 4, 4, 4, 4, 4, 4, 4, 4, 4, 4, 4,\n",
       "       4, 4, 4, 4, 4, 4, 4, 4, 4, 4, 4, 4, 4, 4, 4, 4, 4, 4, 4, 4, 4, 4,\n",
       "       4, 4, 4, 4, 4, 4, 4, 4, 4, 4, 4, 4, 4, 4, 4, 4, 5, 5, 5, 5, 5, 5,\n",
       "       5, 5, 5, 5, 5, 5, 5, 5, 5, 5, 5, 5, 5, 5, 5, 5, 5, 5, 5, 5, 5, 5,\n",
       "       5, 5, 5, 5, 5, 5, 5, 5, 5, 5, 5, 5, 5, 5, 5, 5, 5, 5, 5, 5, 5, 5,\n",
       "       5, 5, 5, 5, 5, 5, 5, 5, 5, 5, 5, 5, 5, 5, 5, 5, 5, 5, 5, 5, 5, 5,\n",
       "       5, 5, 5, 5, 5, 5, 5, 5, 5, 5, 5, 5, 5, 5, 5, 5, 5, 5, 5, 5, 5, 5,\n",
       "       5, 5, 5, 5, 5, 5, 6, 6, 6, 6, 6, 6, 6, 6, 6, 6, 6, 6, 6, 6, 6, 6,\n",
       "       6, 6, 6, 6, 6, 6, 6, 6, 6, 6, 6, 6, 6, 6, 6, 6, 6, 6, 6, 6, 6, 6,\n",
       "       6, 6, 6, 6, 6, 6, 6, 6, 6, 6, 6, 6, 6, 6, 6, 6, 6, 6, 6, 6, 6, 6,\n",
       "       6, 6, 6, 6, 6, 6, 6, 6, 6, 6, 6, 6, 6, 6, 6, 6, 6, 6, 6, 6, 6, 6,\n",
       "       6, 6, 6, 6, 6, 6, 6, 6, 6, 6, 6, 6, 6, 6, 6, 6, 6, 6, 7, 7, 7, 7,\n",
       "       7, 7, 7, 7, 7, 7, 7, 7, 7, 7, 7, 7, 7, 7, 7, 7, 7, 7, 7, 7, 7, 7,\n",
       "       7, 7, 7, 7, 7, 7, 7, 7, 7, 7, 7, 7, 7, 7, 7, 7, 7, 7, 7, 7, 7, 7,\n",
       "       7, 7, 7, 7, 7, 7, 7, 7, 7, 7, 7, 7, 7, 7, 7, 7, 7, 7, 7, 7, 7, 7,\n",
       "       7, 7, 7, 7, 7, 7, 7, 7, 7, 7, 7, 7, 7, 7, 7, 7, 7, 7, 7, 7, 7, 7,\n",
       "       7, 7, 7, 7, 7, 7, 7, 7, 8, 8, 8, 8, 8, 8, 8, 8, 8, 8, 8, 8, 8, 8,\n",
       "       8, 8, 8, 8, 8, 8, 8, 8, 8, 8, 8, 8, 8, 8, 8, 8, 8, 8, 8, 8, 8, 8,\n",
       "       8, 8, 8, 8, 8, 8, 8, 8, 8, 8, 8, 8, 8, 8, 8, 8, 8, 8, 8, 8, 8, 8,\n",
       "       8, 8, 8, 8, 8, 8, 8, 8, 8, 8, 8, 8, 8, 8, 8, 8, 8, 8, 8, 8, 8, 8,\n",
       "       8, 8, 8, 8, 8, 8, 8, 8, 8, 8, 8, 8, 8, 8, 8, 8, 8, 8, 8, 8, 9, 9,\n",
       "       9, 9, 9, 9, 9, 9, 9, 9, 9, 9, 9, 9, 9, 9, 9, 9, 9, 9, 9, 9, 9, 9,\n",
       "       9, 9, 9, 9, 9, 9, 9, 9, 9, 9, 9, 9, 9, 9, 9, 9, 9, 9, 9, 9, 9, 9,\n",
       "       9, 9, 9, 9, 9, 9, 9, 9, 9, 9, 9, 9, 9, 9, 9, 9, 9, 9, 9, 9, 9, 9,\n",
       "       9, 9, 9, 9, 9, 9, 9, 9, 9, 9, 9, 9, 9, 9, 9, 9, 9, 9, 9, 9, 9, 9,\n",
       "       9, 9, 9, 9, 9, 9, 9, 9, 9, 9])"
      ]
     },
     "execution_count": 42,
     "metadata": {},
     "output_type": "execute_result"
    }
   ],
   "source": [
    "y"
   ]
  },
  {
   "cell_type": "markdown",
   "metadata": {
    "colab_type": "text",
    "id": "_2n8a02zGfvP"
   },
   "source": [
    "## Приведение данных в общий вид для обучения ИНС"
   ]
  },
  {
   "cell_type": "code",
   "execution_count": 43,
   "metadata": {
    "colab": {},
    "colab_type": "code",
    "id": "uqcqn-nyAofk"
   },
   "outputs": [],
   "source": [
    "scaler = StandardScaler()\n",
    "X = scaler.fit_transform(np.array(data.iloc[:, :-2], dtype = float))"
   ]
  },
  {
   "cell_type": "code",
   "execution_count": 44,
   "metadata": {},
   "outputs": [
    {
     "data": {
      "text/html": [
       "<div>\n",
       "<style scoped>\n",
       "    .dataframe tbody tr th:only-of-type {\n",
       "        vertical-align: middle;\n",
       "    }\n",
       "\n",
       "    .dataframe tbody tr th {\n",
       "        vertical-align: top;\n",
       "    }\n",
       "\n",
       "    .dataframe thead th {\n",
       "        text-align: right;\n",
       "    }\n",
       "</style>\n",
       "<table border=\"1\" class=\"dataframe\">\n",
       "  <thead>\n",
       "    <tr style=\"text-align: right;\">\n",
       "      <th></th>\n",
       "      <th>chroma_stft</th>\n",
       "      <th>spectral_centroid</th>\n",
       "      <th>spectral_bandwidth</th>\n",
       "      <th>rolloff</th>\n",
       "      <th>zero_crossing_rate</th>\n",
       "      <th>mfcc1</th>\n",
       "      <th>mfcc2</th>\n",
       "      <th>mfcc3</th>\n",
       "      <th>mfcc4</th>\n",
       "      <th>mfcc5</th>\n",
       "      <th>...</th>\n",
       "      <th>mfcc10</th>\n",
       "      <th>mfcc11</th>\n",
       "      <th>mfcc12</th>\n",
       "      <th>mfcc13</th>\n",
       "      <th>mfcc14</th>\n",
       "      <th>mfcc15</th>\n",
       "      <th>mfcc16</th>\n",
       "      <th>mfcc17</th>\n",
       "      <th>mfcc18</th>\n",
       "      <th>mfcc19</th>\n",
       "    </tr>\n",
       "  </thead>\n",
       "  <tbody>\n",
       "    <tr>\n",
       "      <th>0</th>\n",
       "      <td>0.349943</td>\n",
       "      <td>1784.420446</td>\n",
       "      <td>2002.650192</td>\n",
       "      <td>3806.485316</td>\n",
       "      <td>0.083066</td>\n",
       "      <td>-113.596742</td>\n",
       "      <td>121.557302</td>\n",
       "      <td>-19.158825</td>\n",
       "      <td>42.351029</td>\n",
       "      <td>-6.376457</td>\n",
       "      <td>...</td>\n",
       "      <td>10.980491</td>\n",
       "      <td>-8.324323</td>\n",
       "      <td>8.810668</td>\n",
       "      <td>-3.667367</td>\n",
       "      <td>5.751690</td>\n",
       "      <td>-5.162761</td>\n",
       "      <td>0.750947</td>\n",
       "      <td>-1.691937</td>\n",
       "      <td>-0.409954</td>\n",
       "      <td>-2.300208</td>\n",
       "    </tr>\n",
       "    <tr>\n",
       "      <th>1</th>\n",
       "      <td>0.340983</td>\n",
       "      <td>1529.835316</td>\n",
       "      <td>2038.617579</td>\n",
       "      <td>3548.820207</td>\n",
       "      <td>0.056044</td>\n",
       "      <td>-207.556796</td>\n",
       "      <td>124.006717</td>\n",
       "      <td>8.930562</td>\n",
       "      <td>35.874684</td>\n",
       "      <td>2.916038</td>\n",
       "      <td>...</td>\n",
       "      <td>11.903744</td>\n",
       "      <td>-5.560387</td>\n",
       "      <td>5.376802</td>\n",
       "      <td>-2.239119</td>\n",
       "      <td>4.216963</td>\n",
       "      <td>-6.012273</td>\n",
       "      <td>0.936109</td>\n",
       "      <td>-0.716537</td>\n",
       "      <td>0.293875</td>\n",
       "      <td>-0.287431</td>\n",
       "    </tr>\n",
       "    <tr>\n",
       "      <th>2</th>\n",
       "      <td>0.363603</td>\n",
       "      <td>1552.481958</td>\n",
       "      <td>1747.165985</td>\n",
       "      <td>3040.514948</td>\n",
       "      <td>0.076301</td>\n",
       "      <td>-90.754394</td>\n",
       "      <td>140.459907</td>\n",
       "      <td>-29.109965</td>\n",
       "      <td>31.689014</td>\n",
       "      <td>-13.987036</td>\n",
       "      <td>...</td>\n",
       "      <td>9.706442</td>\n",
       "      <td>-13.123111</td>\n",
       "      <td>5.789265</td>\n",
       "      <td>-8.905224</td>\n",
       "      <td>-1.083720</td>\n",
       "      <td>-9.218359</td>\n",
       "      <td>2.455805</td>\n",
       "      <td>-7.726901</td>\n",
       "      <td>-1.815724</td>\n",
       "      <td>-3.433434</td>\n",
       "    </tr>\n",
       "    <tr>\n",
       "      <th>3</th>\n",
       "      <td>0.404779</td>\n",
       "      <td>1070.119953</td>\n",
       "      <td>1596.333948</td>\n",
       "      <td>2185.028454</td>\n",
       "      <td>0.033309</td>\n",
       "      <td>-199.431144</td>\n",
       "      <td>150.099218</td>\n",
       "      <td>5.647594</td>\n",
       "      <td>26.871927</td>\n",
       "      <td>1.754463</td>\n",
       "      <td>...</td>\n",
       "      <td>8.149012</td>\n",
       "      <td>-3.196314</td>\n",
       "      <td>6.087676</td>\n",
       "      <td>-2.476420</td>\n",
       "      <td>-1.073890</td>\n",
       "      <td>-2.874777</td>\n",
       "      <td>0.780976</td>\n",
       "      <td>-3.316932</td>\n",
       "      <td>0.637981</td>\n",
       "      <td>-0.619690</td>\n",
       "    </tr>\n",
       "    <tr>\n",
       "      <th>4</th>\n",
       "      <td>0.308590</td>\n",
       "      <td>1835.494603</td>\n",
       "      <td>1748.362448</td>\n",
       "      <td>3580.945013</td>\n",
       "      <td>0.101500</td>\n",
       "      <td>-160.266031</td>\n",
       "      <td>126.198800</td>\n",
       "      <td>-35.605448</td>\n",
       "      <td>22.153301</td>\n",
       "      <td>-32.489270</td>\n",
       "      <td>...</td>\n",
       "      <td>1.206804</td>\n",
       "      <td>-13.083820</td>\n",
       "      <td>-2.806385</td>\n",
       "      <td>-6.934122</td>\n",
       "      <td>-7.558619</td>\n",
       "      <td>-9.173552</td>\n",
       "      <td>-4.512166</td>\n",
       "      <td>-5.453538</td>\n",
       "      <td>-0.924162</td>\n",
       "      <td>-4.409333</td>\n",
       "    </tr>\n",
       "    <tr>\n",
       "      <th>...</th>\n",
       "      <td>...</td>\n",
       "      <td>...</td>\n",
       "      <td>...</td>\n",
       "      <td>...</td>\n",
       "      <td>...</td>\n",
       "      <td>...</td>\n",
       "      <td>...</td>\n",
       "      <td>...</td>\n",
       "      <td>...</td>\n",
       "      <td>...</td>\n",
       "      <td>...</td>\n",
       "      <td>...</td>\n",
       "      <td>...</td>\n",
       "      <td>...</td>\n",
       "      <td>...</td>\n",
       "      <td>...</td>\n",
       "      <td>...</td>\n",
       "      <td>...</td>\n",
       "      <td>...</td>\n",
       "      <td>...</td>\n",
       "      <td>...</td>\n",
       "    </tr>\n",
       "    <tr>\n",
       "      <th>995</th>\n",
       "      <td>0.351991</td>\n",
       "      <td>2008.581132</td>\n",
       "      <td>2106.617024</td>\n",
       "      <td>4254.215942</td>\n",
       "      <td>0.089267</td>\n",
       "      <td>-153.632304</td>\n",
       "      <td>109.857258</td>\n",
       "      <td>-23.085707</td>\n",
       "      <td>59.040677</td>\n",
       "      <td>-7.490499</td>\n",
       "      <td>...</td>\n",
       "      <td>15.402502</td>\n",
       "      <td>-12.380283</td>\n",
       "      <td>12.350816</td>\n",
       "      <td>-12.306271</td>\n",
       "      <td>5.780973</td>\n",
       "      <td>-10.279924</td>\n",
       "      <td>1.791489</td>\n",
       "      <td>-13.304210</td>\n",
       "      <td>2.473193</td>\n",
       "      <td>-6.717573</td>\n",
       "    </tr>\n",
       "    <tr>\n",
       "      <th>996</th>\n",
       "      <td>0.398653</td>\n",
       "      <td>2006.051164</td>\n",
       "      <td>2068.327905</td>\n",
       "      <td>4147.374921</td>\n",
       "      <td>0.097659</td>\n",
       "      <td>-142.424217</td>\n",
       "      <td>116.219780</td>\n",
       "      <td>-32.177077</td>\n",
       "      <td>49.122974</td>\n",
       "      <td>-8.375371</td>\n",
       "      <td>...</td>\n",
       "      <td>10.800343</td>\n",
       "      <td>-12.982495</td>\n",
       "      <td>14.065346</td>\n",
       "      <td>-16.394693</td>\n",
       "      <td>4.152589</td>\n",
       "      <td>-4.350760</td>\n",
       "      <td>3.736455</td>\n",
       "      <td>-10.845639</td>\n",
       "      <td>1.875218</td>\n",
       "      <td>-7.459579</td>\n",
       "    </tr>\n",
       "    <tr>\n",
       "      <th>997</th>\n",
       "      <td>0.432103</td>\n",
       "      <td>2077.190361</td>\n",
       "      <td>1926.989678</td>\n",
       "      <td>4030.767293</td>\n",
       "      <td>0.121824</td>\n",
       "      <td>-125.031313</td>\n",
       "      <td>115.194965</td>\n",
       "      <td>-47.993506</td>\n",
       "      <td>52.834532</td>\n",
       "      <td>-13.480977</td>\n",
       "      <td>...</td>\n",
       "      <td>10.113327</td>\n",
       "      <td>-16.048916</td>\n",
       "      <td>10.481961</td>\n",
       "      <td>-17.951917</td>\n",
       "      <td>1.211113</td>\n",
       "      <td>-11.534863</td>\n",
       "      <td>1.844773</td>\n",
       "      <td>-12.847902</td>\n",
       "      <td>3.447424</td>\n",
       "      <td>-12.594178</td>\n",
       "    </tr>\n",
       "    <tr>\n",
       "      <th>998</th>\n",
       "      <td>0.362349</td>\n",
       "      <td>1398.672358</td>\n",
       "      <td>1818.148469</td>\n",
       "      <td>3014.740104</td>\n",
       "      <td>0.048731</td>\n",
       "      <td>-224.972299</td>\n",
       "      <td>123.656889</td>\n",
       "      <td>-9.754534</td>\n",
       "      <td>56.595062</td>\n",
       "      <td>10.443339</td>\n",
       "      <td>...</td>\n",
       "      <td>12.796228</td>\n",
       "      <td>-9.000729</td>\n",
       "      <td>7.683082</td>\n",
       "      <td>-10.071786</td>\n",
       "      <td>-0.255097</td>\n",
       "      <td>-5.276486</td>\n",
       "      <td>-2.816289</td>\n",
       "      <td>-4.416438</td>\n",
       "      <td>1.558265</td>\n",
       "      <td>-5.043121</td>\n",
       "    </tr>\n",
       "    <tr>\n",
       "      <th>999</th>\n",
       "      <td>0.358195</td>\n",
       "      <td>1609.442919</td>\n",
       "      <td>1797.065098</td>\n",
       "      <td>3246.280370</td>\n",
       "      <td>0.076290</td>\n",
       "      <td>-235.189364</td>\n",
       "      <td>123.888552</td>\n",
       "      <td>-22.536185</td>\n",
       "      <td>52.915518</td>\n",
       "      <td>-1.436621</td>\n",
       "      <td>...</td>\n",
       "      <td>16.704420</td>\n",
       "      <td>-2.940463</td>\n",
       "      <td>10.066771</td>\n",
       "      <td>-15.019588</td>\n",
       "      <td>3.110469</td>\n",
       "      <td>-7.127754</td>\n",
       "      <td>1.784515</td>\n",
       "      <td>-7.070406</td>\n",
       "      <td>0.023643</td>\n",
       "      <td>-2.022035</td>\n",
       "    </tr>\n",
       "  </tbody>\n",
       "</table>\n",
       "<p>1000 rows × 24 columns</p>\n",
       "</div>"
      ],
      "text/plain": [
       "     chroma_stft  spectral_centroid  spectral_bandwidth      rolloff  \\\n",
       "0       0.349943        1784.420446         2002.650192  3806.485316   \n",
       "1       0.340983        1529.835316         2038.617579  3548.820207   \n",
       "2       0.363603        1552.481958         1747.165985  3040.514948   \n",
       "3       0.404779        1070.119953         1596.333948  2185.028454   \n",
       "4       0.308590        1835.494603         1748.362448  3580.945013   \n",
       "..           ...                ...                 ...          ...   \n",
       "995     0.351991        2008.581132         2106.617024  4254.215942   \n",
       "996     0.398653        2006.051164         2068.327905  4147.374921   \n",
       "997     0.432103        2077.190361         1926.989678  4030.767293   \n",
       "998     0.362349        1398.672358         1818.148469  3014.740104   \n",
       "999     0.358195        1609.442919         1797.065098  3246.280370   \n",
       "\n",
       "     zero_crossing_rate       mfcc1       mfcc2      mfcc3      mfcc4  \\\n",
       "0              0.083066 -113.596742  121.557302 -19.158825  42.351029   \n",
       "1              0.056044 -207.556796  124.006717   8.930562  35.874684   \n",
       "2              0.076301  -90.754394  140.459907 -29.109965  31.689014   \n",
       "3              0.033309 -199.431144  150.099218   5.647594  26.871927   \n",
       "4              0.101500 -160.266031  126.198800 -35.605448  22.153301   \n",
       "..                  ...         ...         ...        ...        ...   \n",
       "995            0.089267 -153.632304  109.857258 -23.085707  59.040677   \n",
       "996            0.097659 -142.424217  116.219780 -32.177077  49.122974   \n",
       "997            0.121824 -125.031313  115.194965 -47.993506  52.834532   \n",
       "998            0.048731 -224.972299  123.656889  -9.754534  56.595062   \n",
       "999            0.076290 -235.189364  123.888552 -22.536185  52.915518   \n",
       "\n",
       "         mfcc5  ...     mfcc10     mfcc11     mfcc12     mfcc13    mfcc14  \\\n",
       "0    -6.376457  ...  10.980491  -8.324323   8.810668  -3.667367  5.751690   \n",
       "1     2.916038  ...  11.903744  -5.560387   5.376802  -2.239119  4.216963   \n",
       "2   -13.987036  ...   9.706442 -13.123111   5.789265  -8.905224 -1.083720   \n",
       "3     1.754463  ...   8.149012  -3.196314   6.087676  -2.476420 -1.073890   \n",
       "4   -32.489270  ...   1.206804 -13.083820  -2.806385  -6.934122 -7.558619   \n",
       "..         ...  ...        ...        ...        ...        ...       ...   \n",
       "995  -7.490499  ...  15.402502 -12.380283  12.350816 -12.306271  5.780973   \n",
       "996  -8.375371  ...  10.800343 -12.982495  14.065346 -16.394693  4.152589   \n",
       "997 -13.480977  ...  10.113327 -16.048916  10.481961 -17.951917  1.211113   \n",
       "998  10.443339  ...  12.796228  -9.000729   7.683082 -10.071786 -0.255097   \n",
       "999  -1.436621  ...  16.704420  -2.940463  10.066771 -15.019588  3.110469   \n",
       "\n",
       "        mfcc15    mfcc16     mfcc17    mfcc18     mfcc19  \n",
       "0    -5.162761  0.750947  -1.691937 -0.409954  -2.300208  \n",
       "1    -6.012273  0.936109  -0.716537  0.293875  -0.287431  \n",
       "2    -9.218359  2.455805  -7.726901 -1.815724  -3.433434  \n",
       "3    -2.874777  0.780976  -3.316932  0.637981  -0.619690  \n",
       "4    -9.173552 -4.512166  -5.453538 -0.924162  -4.409333  \n",
       "..         ...       ...        ...       ...        ...  \n",
       "995 -10.279924  1.791489 -13.304210  2.473193  -6.717573  \n",
       "996  -4.350760  3.736455 -10.845639  1.875218  -7.459579  \n",
       "997 -11.534863  1.844773 -12.847902  3.447424 -12.594178  \n",
       "998  -5.276486 -2.816289  -4.416438  1.558265  -5.043121  \n",
       "999  -7.127754  1.784515  -7.070406  0.023643  -2.022035  \n",
       "\n",
       "[1000 rows x 24 columns]"
      ]
     },
     "execution_count": 44,
     "metadata": {},
     "output_type": "execute_result"
    }
   ],
   "source": [
    "data.iloc[:, :-2]"
   ]
  },
  {
   "cell_type": "markdown",
   "metadata": {
    "colab_type": "text",
    "id": "e3VZvbwpGo9R"
   },
   "source": [
    "## Разделение выборки на обучающую и тестовую"
   ]
  },
  {
   "cell_type": "code",
   "execution_count": 45,
   "metadata": {
    "colab": {},
    "colab_type": "code",
    "id": "F1GW3VvQA7Rj"
   },
   "outputs": [],
   "source": [
    "X_train, X_test, y_train, y_test = train_test_split(X, y, test_size=0.2)"
   ]
  },
  {
   "cell_type": "markdown",
   "metadata": {
    "colab_type": "text",
    "id": "Vp2yc5FWG04e"
   },
   "source": [
    "# Классификация жанров с использованием deep learning Keras\n",
    "\n",
    "## Построение ИНС"
   ]
  },
  {
   "cell_type": "code",
   "execution_count": 53,
   "metadata": {
    "colab": {},
    "colab_type": "code",
    "id": "Qj3sc2uFEUMt"
   },
   "outputs": [],
   "source": [
    "from keras import models\n",
    "from keras import layers\n",
    "\n",
    "model = models.Sequential()\n",
    "model.add(layers.Dense(256, activation='relu', input_shape=(X_train.shape[1],)))\n",
    "model.add(layers.Dense(128, activation='relu'))\n",
    "model.add(layers.Dense(64, activation='relu'))\n",
    "model.add(layers.Dense(10, activation='softmax'))"
   ]
  },
  {
   "cell_type": "code",
   "execution_count": 54,
   "metadata": {
    "colab": {},
    "colab_type": "code",
    "id": "7yrsmpI6EjJ2"
   },
   "outputs": [],
   "source": [
    "model.compile(optimizer='adam',\n",
    "              loss='sparse_categorical_crossentropy',\n",
    "              metrics=['accuracy'])"
   ]
  },
  {
   "cell_type": "code",
   "execution_count": 55,
   "metadata": {
    "colab": {
     "base_uri": "https://localhost:8080/",
     "height": 697
    },
    "colab_type": "code",
    "id": "bP0hVm4aElS7",
    "outputId": "aacf234d-d0a9-4de4-91be-5fd45a33b279"
   },
   "outputs": [
    {
     "name": "stdout",
     "output_type": "stream",
     "text": [
      "Epoch 1/20\n",
      "800/800 [==============================] - 1s 828us/step - loss: 2.1903 - accuracy: 0.1875\n",
      "Epoch 2/20\n",
      "800/800 [==============================] - 0s 17us/step - loss: 1.8745 - accuracy: 0.3500\n",
      "Epoch 3/20\n",
      "800/800 [==============================] - 0s 16us/step - loss: 1.6515 - accuracy: 0.3837\n",
      "Epoch 4/20\n",
      "800/800 [==============================] - 0s 15us/step - loss: 1.4791 - accuracy: 0.4538\n",
      "Epoch 5/20\n",
      "800/800 [==============================] - 0s 15us/step - loss: 1.3327 - accuracy: 0.5387\n",
      "Epoch 6/20\n",
      "800/800 [==============================] - 0s 16us/step - loss: 1.2189 - accuracy: 0.5650\n",
      "Epoch 7/20\n",
      "800/800 [==============================] - 0s 17us/step - loss: 1.1386 - accuracy: 0.6212\n",
      "Epoch 8/20\n",
      "800/800 [==============================] - 0s 17us/step - loss: 1.0644 - accuracy: 0.6500\n",
      "Epoch 9/20\n",
      "800/800 [==============================] - 0s 17us/step - loss: 0.9942 - accuracy: 0.6687\n",
      "Epoch 10/20\n",
      "800/800 [==============================] - 0s 16us/step - loss: 0.9480 - accuracy: 0.6812\n",
      "Epoch 11/20\n",
      "800/800 [==============================] - 0s 15us/step - loss: 0.8878 - accuracy: 0.6988\n",
      "Epoch 12/20\n",
      "800/800 [==============================] - 0s 15us/step - loss: 0.8449 - accuracy: 0.7237\n",
      "Epoch 13/20\n",
      "800/800 [==============================] - ETA: 0s - loss: 0.8302 - accuracy: 0.74 - 0s 17us/step - loss: 0.8047 - accuracy: 0.7325\n",
      "Epoch 14/20\n",
      "800/800 [==============================] - 0s 17us/step - loss: 0.7545 - accuracy: 0.7625\n",
      "Epoch 15/20\n",
      "800/800 [==============================] - 0s 17us/step - loss: 0.7329 - accuracy: 0.7638\n",
      "Epoch 16/20\n",
      "800/800 [==============================] - 0s 16us/step - loss: 0.7081 - accuracy: 0.7750\n",
      "Epoch 17/20\n",
      "800/800 [==============================] - 0s 17us/step - loss: 0.6639 - accuracy: 0.7825\n",
      "Epoch 18/20\n",
      "800/800 [==============================] - 0s 17us/step - loss: 0.6484 - accuracy: 0.8012\n",
      "Epoch 19/20\n",
      "800/800 [==============================] - 0s 16us/step - loss: 0.6110 - accuracy: 0.8025\n",
      "Epoch 20/20\n",
      "800/800 [==============================] - 0s 16us/step - loss: 0.5875 - accuracy: 0.8112\n"
     ]
    }
   ],
   "source": [
    "history = model.fit(X_train,\n",
    "                    y_train,\n",
    "                    epochs=20,\n",
    "                    batch_size=128)"
   ]
  },
  {
   "cell_type": "code",
   "execution_count": 56,
   "metadata": {
    "colab": {
     "base_uri": "https://localhost:8080/",
     "height": 34
    },
    "colab_type": "code",
    "id": "0m1J0_wUFK4C",
    "outputId": "ffd3bf36-29ea-437a-987c-9aa600b9dae6"
   },
   "outputs": [
    {
     "name": "stdout",
     "output_type": "stream",
     "text": [
      "200/200 [==============================] - 0s 199us/step\n"
     ]
    }
   ],
   "source": [
    "test_loss, test_acc = model.evaluate(X_test,y_test)"
   ]
  },
  {
   "cell_type": "code",
   "execution_count": 57,
   "metadata": {
    "colab": {
     "base_uri": "https://localhost:8080/",
     "height": 34
    },
    "colab_type": "code",
    "id": "f6HrjXeUF0Ko",
    "outputId": "ea282dbd-6f9e-48c7-de2d-dc9afde8949e"
   },
   "outputs": [
    {
     "name": "stdout",
     "output_type": "stream",
     "text": [
      "test_acc:  0.6449999809265137\n"
     ]
    }
   ],
   "source": [
    "print('test_acc: ',test_acc)"
   ]
  },
  {
   "cell_type": "markdown",
   "metadata": {
    "colab_type": "text",
    "id": "-U2qzRJoHV9O"
   },
   "source": [
    "## Проверка ИНС"
   ]
  },
  {
   "cell_type": "code",
   "execution_count": 58,
   "metadata": {
    "colab": {},
    "colab_type": "code",
    "id": "xJNbvYZoF7ZT"
   },
   "outputs": [],
   "source": [
    "x_val = X_train[:200]\n",
    "partial_x_train = X_train[200:]\n",
    "\n",
    "y_val = y_train[:200]\n",
    "partial_y_train = y_train[200:]"
   ]
  },
  {
   "cell_type": "code",
   "execution_count": 59,
   "metadata": {
    "colab": {
     "base_uri": "https://localhost:8080/",
     "height": 1071
    },
    "colab_type": "code",
    "id": "Dp3G4P3aP4k2",
    "outputId": "25e1a389-1ac2-425b-bd5f-05736b6e9b96"
   },
   "outputs": [
    {
     "name": "stdout",
     "output_type": "stream",
     "text": [
      "Train on 600 samples, validate on 200 samples\n",
      "Epoch 1/30\n",
      "600/600 [==============================] - 0s 436us/step - loss: 2.2988 - accuracy: 0.0850 - val_loss: 2.1715 - val_accuracy: 0.2850\n",
      "Epoch 2/30\n",
      "600/600 [==============================] - 0s 28us/step - loss: 2.1115 - accuracy: 0.3233 - val_loss: 2.0529 - val_accuracy: 0.3000\n",
      "Epoch 3/30\n",
      "600/600 [==============================] - 0s 28us/step - loss: 1.9531 - accuracy: 0.3450 - val_loss: 1.9383 - val_accuracy: 0.2950\n",
      "Epoch 4/30\n",
      "600/600 [==============================] - 0s 30us/step - loss: 1.8115 - accuracy: 0.3433 - val_loss: 1.8365 - val_accuracy: 0.3300\n",
      "Epoch 5/30\n",
      "600/600 [==============================] - 0s 27us/step - loss: 1.6888 - accuracy: 0.3683 - val_loss: 1.7316 - val_accuracy: 0.3700\n",
      "Epoch 6/30\n",
      "600/600 [==============================] - 0s 27us/step - loss: 1.5687 - accuracy: 0.4400 - val_loss: 1.6380 - val_accuracy: 0.4100\n",
      "Epoch 7/30\n",
      "600/600 [==============================] - 0s 28us/step - loss: 1.4668 - accuracy: 0.4967 - val_loss: 1.5426 - val_accuracy: 0.4850\n",
      "Epoch 8/30\n",
      "600/600 [==============================] - 0s 32us/step - loss: 1.3693 - accuracy: 0.5483 - val_loss: 1.4629 - val_accuracy: 0.5300\n",
      "Epoch 9/30\n",
      "600/600 [==============================] - 0s 28us/step - loss: 1.2902 - accuracy: 0.5700 - val_loss: 1.4062 - val_accuracy: 0.5700\n",
      "Epoch 10/30\n",
      "600/600 [==============================] - 0s 28us/step - loss: 1.2060 - accuracy: 0.6200 - val_loss: 1.3688 - val_accuracy: 0.5300\n",
      "Epoch 11/30\n",
      "600/600 [==============================] - 0s 28us/step - loss: 1.1364 - accuracy: 0.6533 - val_loss: 1.3348 - val_accuracy: 0.5450\n",
      "Epoch 12/30\n",
      "600/600 [==============================] - 0s 32us/step - loss: 1.0784 - accuracy: 0.6517 - val_loss: 1.3158 - val_accuracy: 0.5600\n",
      "Epoch 13/30\n",
      "600/600 [==============================] - 0s 32us/step - loss: 1.0442 - accuracy: 0.6583 - val_loss: 1.2833 - val_accuracy: 0.5700\n",
      "Epoch 14/30\n",
      "600/600 [==============================] - 0s 32us/step - loss: 0.9802 - accuracy: 0.6717 - val_loss: 1.2834 - val_accuracy: 0.5700\n",
      "Epoch 15/30\n",
      "600/600 [==============================] - 0s 37us/step - loss: 0.9492 - accuracy: 0.6817 - val_loss: 1.2477 - val_accuracy: 0.5750\n",
      "Epoch 16/30\n",
      "600/600 [==============================] - 0s 32us/step - loss: 0.8980 - accuracy: 0.7133 - val_loss: 1.2170 - val_accuracy: 0.5950\n",
      "Epoch 17/30\n",
      "600/600 [==============================] - 0s 33us/step - loss: 0.8611 - accuracy: 0.7183 - val_loss: 1.2075 - val_accuracy: 0.6050\n",
      "Epoch 18/30\n",
      "600/600 [==============================] - ETA: 0s - loss: 0.8500 - accuracy: 0.72 - 0s 32us/step - loss: 0.8321 - accuracy: 0.7300 - val_loss: 1.1902 - val_accuracy: 0.6250\n",
      "Epoch 19/30\n",
      "600/600 [==============================] - 0s 30us/step - loss: 0.8001 - accuracy: 0.7333 - val_loss: 1.2160 - val_accuracy: 0.5900\n",
      "Epoch 20/30\n",
      "600/600 [==============================] - 0s 35us/step - loss: 0.7784 - accuracy: 0.7450 - val_loss: 1.1910 - val_accuracy: 0.5950\n",
      "Epoch 21/30\n",
      "600/600 [==============================] - 0s 33us/step - loss: 0.7231 - accuracy: 0.7683 - val_loss: 1.2015 - val_accuracy: 0.5900\n",
      "Epoch 22/30\n",
      "600/600 [==============================] - 0s 32us/step - loss: 0.7404 - accuracy: 0.7717 - val_loss: 1.1940 - val_accuracy: 0.5800\n",
      "Epoch 23/30\n",
      "600/600 [==============================] - 0s 32us/step - loss: 0.6971 - accuracy: 0.7700 - val_loss: 1.1794 - val_accuracy: 0.6100\n",
      "Epoch 24/30\n",
      "600/600 [==============================] - 0s 35us/step - loss: 0.6507 - accuracy: 0.7917 - val_loss: 1.1699 - val_accuracy: 0.6150\n",
      "Epoch 25/30\n",
      "600/600 [==============================] - 0s 32us/step - loss: 0.6441 - accuracy: 0.7983 - val_loss: 1.1501 - val_accuracy: 0.6400\n",
      "Epoch 26/30\n",
      "600/600 [==============================] - 0s 32us/step - loss: 0.6274 - accuracy: 0.7983 - val_loss: 1.1425 - val_accuracy: 0.6300\n",
      "Epoch 27/30\n",
      "600/600 [==============================] - 0s 35us/step - loss: 0.6038 - accuracy: 0.8033 - val_loss: 1.1542 - val_accuracy: 0.6250\n",
      "Epoch 28/30\n",
      "600/600 [==============================] - 0s 37us/step - loss: 0.5885 - accuracy: 0.8083 - val_loss: 1.1938 - val_accuracy: 0.6200\n",
      "Epoch 29/30\n",
      "600/600 [==============================] - 0s 42us/step - loss: 0.5848 - accuracy: 0.8150 - val_loss: 1.1688 - val_accuracy: 0.6150\n",
      "Epoch 30/30\n",
      "600/600 [==============================] - 0s 38us/step - loss: 0.5439 - accuracy: 0.8433 - val_loss: 1.1635 - val_accuracy: 0.6300\n",
      "200/200 [==============================] - 0s 35us/step\n"
     ]
    }
   ],
   "source": [
    "model = models.Sequential()\n",
    "model.add(layers.Dense(512, activation='relu', input_shape=(X_train.shape[1],)))\n",
    "model.add(layers.Dense(256, activation='relu'))\n",
    "model.add(layers.Dense(128, activation='relu'))\n",
    "model.add(layers.Dense(64, activation='relu'))\n",
    "model.add(layers.Dense(10, activation='softmax'))\n",
    "\n",
    "model.compile(optimizer='adam',\n",
    "              loss='sparse_categorical_crossentropy',\n",
    "              metrics=['accuracy'])\n",
    "\n",
    "model.fit(partial_x_train,\n",
    "          partial_y_train,\n",
    "          epochs=30,\n",
    "          batch_size=512,\n",
    "          validation_data=(x_val, y_val))\n",
    "results = model.evaluate(X_test, y_test)"
   ]
  },
  {
   "cell_type": "code",
   "execution_count": 60,
   "metadata": {
    "colab": {
     "base_uri": "https://localhost:8080/",
     "height": 34
    },
    "colab_type": "code",
    "id": "Mvi9it1SI4aR",
    "outputId": "98b01ef2-3935-442b-82d6-45f56e036d39"
   },
   "outputs": [
    {
     "data": {
      "text/plain": [
       "[1.2284379291534424, 0.625]"
      ]
     },
     "execution_count": 60,
     "metadata": {},
     "output_type": "execute_result"
    }
   ],
   "source": [
    "results"
   ]
  },
  {
   "cell_type": "markdown",
   "metadata": {
    "colab_type": "text",
    "id": "r3hb8s1l4rBA"
   },
   "source": [
    "## Предсказания"
   ]
  },
  {
   "cell_type": "code",
   "execution_count": 62,
   "metadata": {
    "colab": {},
    "colab_type": "code",
    "id": "gudBAhIXJIi2"
   },
   "outputs": [
    {
     "data": {
      "text/plain": [
       "array([[2.7007700e-04, 1.4077120e-04, 4.1779539e-01, ..., 4.0978104e-01,\n",
       "        5.0197877e-03, 5.4033674e-02],\n",
       "       [4.8765284e-01, 1.5790272e-05, 1.5746483e-01, ..., 1.3703814e-05,\n",
       "        1.8099938e-02, 3.1288320e-01],\n",
       "       [1.6417694e-01, 2.8000276e-03, 5.6183234e-02, ..., 3.5792441e-04,\n",
       "        5.2364737e-01, 1.6981214e-01],\n",
       "       ...,\n",
       "       [7.7783596e-03, 1.4416895e-04, 4.6763915e-04, ..., 4.6710316e-05,\n",
       "        3.9627563e-04, 7.1784176e-02],\n",
       "       [2.1683003e-03, 2.8361453e-02, 7.0087373e-02, ..., 5.1980831e-02,\n",
       "        1.3177706e-01, 4.0159878e-01],\n",
       "       [9.5311673e-03, 6.0946517e-05, 4.4957320e-05, ..., 2.1202973e-06,\n",
       "        3.3733429e-04, 2.8691228e-02]], dtype=float32)"
      ]
     },
     "execution_count": 62,
     "metadata": {},
     "output_type": "execute_result"
    }
   ],
   "source": [
    "predictions = model.predict(X_test)\n",
    "predictions"
   ]
  },
  {
   "cell_type": "code",
   "execution_count": 65,
   "metadata": {
    "colab": {
     "base_uri": "https://localhost:8080/",
     "height": 34
    },
    "colab_type": "code",
    "id": "llusRQV0JRy9",
    "outputId": "a856289d-883a-47cb-c0fb-ec148330a60a"
   },
   "outputs": [
    {
     "data": {
      "text/plain": [
       "1.0"
      ]
     },
     "execution_count": 65,
     "metadata": {},
     "output_type": "execute_result"
    }
   ],
   "source": [
    "np.sum(predictions[0])"
   ]
  },
  {
   "cell_type": "code",
   "execution_count": 69,
   "metadata": {},
   "outputs": [
    {
     "data": {
      "text/plain": [
       "2"
      ]
     },
     "execution_count": 69,
     "metadata": {},
     "output_type": "execute_result"
    }
   ],
   "source": [
    "np.argmax(predictions[0])"
   ]
  },
  {
   "cell_type": "markdown",
   "metadata": {},
   "source": [
    "# Сохранение нейросети"
   ]
  },
  {
   "cell_type": "code",
   "execution_count": 67,
   "metadata": {},
   "outputs": [],
   "source": [
    "from keras.models import model_from_json\n",
    "model_json = model.to_json()\n",
    "with open(\"model.json\", \"w\") as json_file:\n",
    "    json_file.write(model_json)"
   ]
  },
  {
   "cell_type": "markdown",
   "metadata": {},
   "source": [
    "# Загрузка нейросети"
   ]
  },
  {
   "cell_type": "code",
   "execution_count": 1,
   "metadata": {},
   "outputs": [
    {
     "name": "stderr",
     "output_type": "stream",
     "text": [
      "Using TensorFlow backend.\n",
      "D:\\Anaconda3\\envs\\introml\\lib\\site-packages\\tensorflow\\python\\framework\\dtypes.py:526: FutureWarning: Passing (type, 1) or '1type' as a synonym of type is deprecated; in a future version of numpy, it will be understood as (type, (1,)) / '(1,)type'.\n",
      "  _np_qint8 = np.dtype([(\"qint8\", np.int8, 1)])\n",
      "D:\\Anaconda3\\envs\\introml\\lib\\site-packages\\tensorflow\\python\\framework\\dtypes.py:527: FutureWarning: Passing (type, 1) or '1type' as a synonym of type is deprecated; in a future version of numpy, it will be understood as (type, (1,)) / '(1,)type'.\n",
      "  _np_quint8 = np.dtype([(\"quint8\", np.uint8, 1)])\n",
      "D:\\Anaconda3\\envs\\introml\\lib\\site-packages\\tensorflow\\python\\framework\\dtypes.py:528: FutureWarning: Passing (type, 1) or '1type' as a synonym of type is deprecated; in a future version of numpy, it will be understood as (type, (1,)) / '(1,)type'.\n",
      "  _np_qint16 = np.dtype([(\"qint16\", np.int16, 1)])\n",
      "D:\\Anaconda3\\envs\\introml\\lib\\site-packages\\tensorflow\\python\\framework\\dtypes.py:529: FutureWarning: Passing (type, 1) or '1type' as a synonym of type is deprecated; in a future version of numpy, it will be understood as (type, (1,)) / '(1,)type'.\n",
      "  _np_quint16 = np.dtype([(\"quint16\", np.uint16, 1)])\n",
      "D:\\Anaconda3\\envs\\introml\\lib\\site-packages\\tensorflow\\python\\framework\\dtypes.py:530: FutureWarning: Passing (type, 1) or '1type' as a synonym of type is deprecated; in a future version of numpy, it will be understood as (type, (1,)) / '(1,)type'.\n",
      "  _np_qint32 = np.dtype([(\"qint32\", np.int32, 1)])\n",
      "D:\\Anaconda3\\envs\\introml\\lib\\site-packages\\tensorflow\\python\\framework\\dtypes.py:535: FutureWarning: Passing (type, 1) or '1type' as a synonym of type is deprecated; in a future version of numpy, it will be understood as (type, (1,)) / '(1,)type'.\n",
      "  np_resource = np.dtype([(\"resource\", np.ubyte, 1)])\n"
     ]
    },
    {
     "name": "stdout",
     "output_type": "stream",
     "text": [
      "WARNING:tensorflow:From D:\\Anaconda3\\envs\\introml\\lib\\site-packages\\tensorflow\\python\\ops\\resource_variable_ops.py:435: colocate_with (from tensorflow.python.framework.ops) is deprecated and will be removed in a future version.\n",
      "Instructions for updating:\n",
      "Colocations handled automatically by placer.\n"
     ]
    }
   ],
   "source": [
    "from keras.models import model_from_json\n",
    "\n",
    "jfile = open(\"model.json\", \"r\")\n",
    "loaded_model = jfile.read()\n",
    "jfile.close()\n",
    "loaded_model = model_from_json(loaded_model)\n",
    "loaded_model.compile(loss='sparse_categorical_crossentropy', optimizer='adam', metrics=['accuracy'])"
   ]
  },
  {
   "cell_type": "markdown",
   "metadata": {},
   "source": [
    "## Конвертация .midi to .wav"
   ]
  },
  {
   "cell_type": "code",
   "execution_count": 11,
   "metadata": {},
   "outputs": [
    {
     "ename": "FileNotFoundError",
     "evalue": "[WinError 2] Не удается найти указанный файл",
     "output_type": "error",
     "traceback": [
      "\u001b[1;31m---------------------------------------------------------------------------\u001b[0m",
      "\u001b[1;31mFileNotFoundError\u001b[0m                         Traceback (most recent call last)",
      "\u001b[1;32m<ipython-input-11-188aa27beb03>\u001b[0m in \u001b[0;36m<module>\u001b[1;34m\u001b[0m\n\u001b[0;32m      1\u001b[0m \u001b[1;32mfrom\u001b[0m \u001b[0mmidi2audio\u001b[0m \u001b[1;32mimport\u001b[0m \u001b[0mFluidSynth\u001b[0m\u001b[1;33m\u001b[0m\u001b[1;33m\u001b[0m\u001b[0m\n\u001b[1;32m----> 2\u001b[1;33m \u001b[0mFluidSynth\u001b[0m\u001b[1;33m(\u001b[0m\u001b[1;33m)\u001b[0m\u001b[1;33m.\u001b[0m\u001b[0mmidi_to_audio\u001b[0m\u001b[1;33m(\u001b[0m\u001b[1;34m'C:/Users/Яна/MGC/MGC/m1.mid'\u001b[0m\u001b[1;33m,\u001b[0m \u001b[1;34m'output.wav'\u001b[0m\u001b[1;33m)\u001b[0m\u001b[1;33m\u001b[0m\u001b[1;33m\u001b[0m\u001b[0m\n\u001b[0m",
      "\u001b[1;32mD:\\Anaconda3\\envs\\introml\\lib\\site-packages\\midi2audio.py\u001b[0m in \u001b[0;36mmidi_to_audio\u001b[1;34m(self, midi_file, audio_file)\u001b[0m\n\u001b[0;32m     44\u001b[0m \u001b[1;33m\u001b[0m\u001b[0m\n\u001b[0;32m     45\u001b[0m     \u001b[1;32mdef\u001b[0m \u001b[0mmidi_to_audio\u001b[0m\u001b[1;33m(\u001b[0m\u001b[0mself\u001b[0m\u001b[1;33m,\u001b[0m \u001b[0mmidi_file\u001b[0m\u001b[1;33m,\u001b[0m \u001b[0maudio_file\u001b[0m\u001b[1;33m)\u001b[0m\u001b[1;33m:\u001b[0m\u001b[1;33m\u001b[0m\u001b[1;33m\u001b[0m\u001b[0m\n\u001b[1;32m---> 46\u001b[1;33m         \u001b[0msubprocess\u001b[0m\u001b[1;33m.\u001b[0m\u001b[0mcall\u001b[0m\u001b[1;33m(\u001b[0m\u001b[1;33m[\u001b[0m\u001b[1;34m'fluidsynth'\u001b[0m\u001b[1;33m,\u001b[0m \u001b[1;34m'-ni'\u001b[0m\u001b[1;33m,\u001b[0m \u001b[0mself\u001b[0m\u001b[1;33m.\u001b[0m\u001b[0msound_font\u001b[0m\u001b[1;33m,\u001b[0m \u001b[0mmidi_file\u001b[0m\u001b[1;33m,\u001b[0m \u001b[1;34m'-F'\u001b[0m\u001b[1;33m,\u001b[0m \u001b[0maudio_file\u001b[0m\u001b[1;33m,\u001b[0m \u001b[1;34m'-r'\u001b[0m\u001b[1;33m,\u001b[0m \u001b[0mstr\u001b[0m\u001b[1;33m(\u001b[0m\u001b[0mself\u001b[0m\u001b[1;33m.\u001b[0m\u001b[0msample_rate\u001b[0m\u001b[1;33m)\u001b[0m\u001b[1;33m]\u001b[0m\u001b[1;33m)\u001b[0m\u001b[1;33m\u001b[0m\u001b[1;33m\u001b[0m\u001b[0m\n\u001b[0m\u001b[0;32m     47\u001b[0m \u001b[1;33m\u001b[0m\u001b[0m\n\u001b[0;32m     48\u001b[0m     \u001b[1;32mdef\u001b[0m \u001b[0mplay_midi\u001b[0m\u001b[1;33m(\u001b[0m\u001b[0mself\u001b[0m\u001b[1;33m,\u001b[0m \u001b[0mmidi_file\u001b[0m\u001b[1;33m)\u001b[0m\u001b[1;33m:\u001b[0m\u001b[1;33m\u001b[0m\u001b[1;33m\u001b[0m\u001b[0m\n",
      "\u001b[1;32mD:\\Anaconda3\\envs\\introml\\lib\\subprocess.py\u001b[0m in \u001b[0;36mcall\u001b[1;34m(timeout, *popenargs, **kwargs)\u001b[0m\n\u001b[0;32m    285\u001b[0m     \u001b[0mretcode\u001b[0m \u001b[1;33m=\u001b[0m \u001b[0mcall\u001b[0m\u001b[1;33m(\u001b[0m\u001b[1;33m[\u001b[0m\u001b[1;34m\"ls\"\u001b[0m\u001b[1;33m,\u001b[0m \u001b[1;34m\"-l\"\u001b[0m\u001b[1;33m]\u001b[0m\u001b[1;33m)\u001b[0m\u001b[1;33m\u001b[0m\u001b[1;33m\u001b[0m\u001b[0m\n\u001b[0;32m    286\u001b[0m     \"\"\"\n\u001b[1;32m--> 287\u001b[1;33m     \u001b[1;32mwith\u001b[0m \u001b[0mPopen\u001b[0m\u001b[1;33m(\u001b[0m\u001b[1;33m*\u001b[0m\u001b[0mpopenargs\u001b[0m\u001b[1;33m,\u001b[0m \u001b[1;33m**\u001b[0m\u001b[0mkwargs\u001b[0m\u001b[1;33m)\u001b[0m \u001b[1;32mas\u001b[0m \u001b[0mp\u001b[0m\u001b[1;33m:\u001b[0m\u001b[1;33m\u001b[0m\u001b[1;33m\u001b[0m\u001b[0m\n\u001b[0m\u001b[0;32m    288\u001b[0m         \u001b[1;32mtry\u001b[0m\u001b[1;33m:\u001b[0m\u001b[1;33m\u001b[0m\u001b[1;33m\u001b[0m\u001b[0m\n\u001b[0;32m    289\u001b[0m             \u001b[1;32mreturn\u001b[0m \u001b[0mp\u001b[0m\u001b[1;33m.\u001b[0m\u001b[0mwait\u001b[0m\u001b[1;33m(\u001b[0m\u001b[0mtimeout\u001b[0m\u001b[1;33m=\u001b[0m\u001b[0mtimeout\u001b[0m\u001b[1;33m)\u001b[0m\u001b[1;33m\u001b[0m\u001b[1;33m\u001b[0m\u001b[0m\n",
      "\u001b[1;32mD:\\Anaconda3\\envs\\introml\\lib\\subprocess.py\u001b[0m in \u001b[0;36m__init__\u001b[1;34m(self, args, bufsize, executable, stdin, stdout, stderr, preexec_fn, close_fds, shell, cwd, env, universal_newlines, startupinfo, creationflags, restore_signals, start_new_session, pass_fds, encoding, errors)\u001b[0m\n\u001b[0;32m    727\u001b[0m                                 \u001b[0mc2pread\u001b[0m\u001b[1;33m,\u001b[0m \u001b[0mc2pwrite\u001b[0m\u001b[1;33m,\u001b[0m\u001b[1;33m\u001b[0m\u001b[1;33m\u001b[0m\u001b[0m\n\u001b[0;32m    728\u001b[0m                                 \u001b[0merrread\u001b[0m\u001b[1;33m,\u001b[0m \u001b[0merrwrite\u001b[0m\u001b[1;33m,\u001b[0m\u001b[1;33m\u001b[0m\u001b[1;33m\u001b[0m\u001b[0m\n\u001b[1;32m--> 729\u001b[1;33m                                 restore_signals, start_new_session)\n\u001b[0m\u001b[0;32m    730\u001b[0m         \u001b[1;32mexcept\u001b[0m\u001b[1;33m:\u001b[0m\u001b[1;33m\u001b[0m\u001b[1;33m\u001b[0m\u001b[0m\n\u001b[0;32m    731\u001b[0m             \u001b[1;31m# Cleanup if the child failed starting.\u001b[0m\u001b[1;33m\u001b[0m\u001b[1;33m\u001b[0m\u001b[1;33m\u001b[0m\u001b[0m\n",
      "\u001b[1;32mD:\\Anaconda3\\envs\\introml\\lib\\subprocess.py\u001b[0m in \u001b[0;36m_execute_child\u001b[1;34m(self, args, executable, preexec_fn, close_fds, pass_fds, cwd, env, startupinfo, creationflags, shell, p2cread, p2cwrite, c2pread, c2pwrite, errread, errwrite, unused_restore_signals, unused_start_new_session)\u001b[0m\n\u001b[0;32m   1015\u001b[0m                                          \u001b[0menv\u001b[0m\u001b[1;33m,\u001b[0m\u001b[1;33m\u001b[0m\u001b[1;33m\u001b[0m\u001b[0m\n\u001b[0;32m   1016\u001b[0m                                          \u001b[0mos\u001b[0m\u001b[1;33m.\u001b[0m\u001b[0mfspath\u001b[0m\u001b[1;33m(\u001b[0m\u001b[0mcwd\u001b[0m\u001b[1;33m)\u001b[0m \u001b[1;32mif\u001b[0m \u001b[0mcwd\u001b[0m \u001b[1;32mis\u001b[0m \u001b[1;32mnot\u001b[0m \u001b[1;32mNone\u001b[0m \u001b[1;32melse\u001b[0m \u001b[1;32mNone\u001b[0m\u001b[1;33m,\u001b[0m\u001b[1;33m\u001b[0m\u001b[1;33m\u001b[0m\u001b[0m\n\u001b[1;32m-> 1017\u001b[1;33m                                          startupinfo)\n\u001b[0m\u001b[0;32m   1018\u001b[0m             \u001b[1;32mfinally\u001b[0m\u001b[1;33m:\u001b[0m\u001b[1;33m\u001b[0m\u001b[1;33m\u001b[0m\u001b[0m\n\u001b[0;32m   1019\u001b[0m                 \u001b[1;31m# Child is launched. Close the parent's copy of those pipe\u001b[0m\u001b[1;33m\u001b[0m\u001b[1;33m\u001b[0m\u001b[1;33m\u001b[0m\u001b[0m\n",
      "\u001b[1;31mFileNotFoundError\u001b[0m: [WinError 2] Не удается найти указанный файл"
     ]
    }
   ],
   "source": [
    "from midi2audio import FluidSynth\n",
    "FluidSynth().midi_to_audio('C:/Users/Яна/MGC/MGC/m1.mid', 'output.wav')"
   ]
  },
  {
   "cell_type": "code",
   "execution_count": null,
   "metadata": {},
   "outputs": [],
   "source": []
  }
 ],
 "metadata": {
  "accelerator": "TPU",
  "colab": {
   "include_colab_link": true,
   "name": "Untitled9.ipynb",
   "provenance": [],
   "version": "0.3.2"
  },
  "kernelspec": {
   "display_name": "Python 3",
   "language": "python",
   "name": "python3"
  },
  "language_info": {
   "codemirror_mode": {
    "name": "ipython",
    "version": 3
   },
   "file_extension": ".py",
   "mimetype": "text/x-python",
   "name": "python",
   "nbconvert_exporter": "python",
   "pygments_lexer": "ipython3",
   "version": "3.6.10"
  }
 },
 "nbformat": 4,
 "nbformat_minor": 4
}
